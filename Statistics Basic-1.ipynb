{
 "cells": [
  {
   "cell_type": "markdown",
   "id": "04c0ccc2-19d2-41bc-b88a-409cc85754e4",
   "metadata": {},
   "source": [
    "1.What is Statistics?"
   ]
  },
  {
   "cell_type": "markdown",
   "id": "c9a302a3-b3b4-454a-abf3-6b253f2f0891",
   "metadata": {},
   "source": [
    "Ans1: It is the science of collecting,organizing and analysisng,interpretating and presentating teh data."
   ]
  },
  {
   "cell_type": "markdown",
   "id": "dc92c12e-fe0e-4a62-8a16-82e5ed10027a",
   "metadata": {},
   "source": [
    "Q2. Define the different types of statistics and give an example of when each type might be used."
   ]
  },
  {
   "cell_type": "markdown",
   "id": "c659293b-5e95-427b-9c3d-65914b904205",
   "metadata": {},
   "source": [
    "Ans2: There are two types of statistics \n",
    "    a.Descriptive Statistics \n",
    "    b.Infrential Statistics\n",
    "    These are explained as follows :\n",
    "\n",
    "    a. Descriptive Statistics : In this type of statistics different statistical measures use to describe organize and summarize the data.\n",
    "\n",
    "    b. Inferential Statistics : In this type of statistcs sample data will collect from the population data to make inferences about the population. \n",
    "    "
   ]
  },
  {
   "cell_type": "markdown",
   "id": "ac3c210f-d5de-4062-b839-66ef7bd9b12c",
   "metadata": {},
   "source": [
    "Q3. What are the different types of data and how do they differ from each other? Provide an example of\n",
    "each type of data."
   ]
  },
  {
   "cell_type": "markdown",
   "id": "acfe1d17-1f62-4417-aee2-a73e93dd58c3",
   "metadata": {},
   "source": [
    "Ans3:Data define as a piece of information. types of data are defines as follows:\n",
    "    a. Quantitative Data-\n",
    "         This type of data can be count and measured.It includes the numercial data.\n",
    "        1.Discrete Data : This type of data are used to measure varibales that have distinct values.It is measured numerically,but it is only shows                               whole numbers or integers.\n",
    "          For Example: numbers of children,number of households,number of cars, number of days etc.\n",
    "        2.Continious Data: This type of data used to  measure variables that can  be expressed as any fractional number.It shows intervals between                                 values,and it is measured numerically.\n",
    "          For Example: Weight, Tempreature, Rainfall,Speed etc.\n",
    "    b. Qualitative Data-\n",
    "        This type of data vcannot be counted or measured easily.It includes categorical data.\n",
    "        1. Nominal Data : Its is used to classify or categorize items into different types or groups. It does not show any order or ranking, and it                               cannot  be measured numerically. \n",
    "           For example: Types of food , types of colour, religion,education etc.\n",
    "        2. Ordinal Data : Ordinal data are used to order or rank items into different types or groups.This type of data shows the relative position but                           it cannot be measured numerically.Its shows comparitative analysis. \n",
    "           For Example: level of customer satisfaction - Good ,Satisfactory and Bad etc.\n",
    "           "
   ]
  },
  {
   "cell_type": "markdown",
   "id": "d229feb6-85a7-4fc4-b2ba-6c7ed6197e1c",
   "metadata": {},
   "source": [
    "Q4. Categorise the following datasets with respect to quantitative and qualitative data types:\n",
    "\r\n",
    "(i) Grading in exam: A+, A, B+, B, C+, C, D, E\n",
    "\r\n",
    "(ii) Colour of mangoes: yellow, green, orange, red\n",
    "\r\n",
    "(iii) Height data of a class: [178.9, 179, 179.5, 176, 177.2, 178.3, 175.8,...]\n",
    "\r\n",
    "(iv) Number of mangoes exported by a farm: [500, 600, 478, 672, …]"
   ]
  },
  {
   "cell_type": "markdown",
   "id": "746aeac1-4e07-404d-8ffd-27a341e6d3b6",
   "metadata": {},
   "source": [
    "Ans4: (i) Grading in exam: A+, A, B+, B, C+, C, D, E   --- Ordinal data\n",
    "\n",
    "      (ii) Colour of mangoes: yellow, green, orange, red  ------- Nominal data\n",
    "\n",
    "      (iii) Height data of a class: [178.9, 179, 179.5, 176, 177.2, 178.3, 175.8,...]--------Discrete data\n",
    "\n",
    "      (iv) Number of mangoes exported by a farm: [500, 600, 478, 672, …] -----Discrete data"
   ]
  },
  {
   "cell_type": "code",
   "execution_count": null,
   "id": "bc42caca-38d5-4124-8d3e-97be91f8967d",
   "metadata": {},
   "outputs": [],
   "source": [
    "Q5. Explain the concept of levels of measurement and give an example of a variable for each level."
   ]
  },
  {
   "cell_type": "code",
   "execution_count": null,
   "id": "d082d308-2319-4d05-a3a7-80eef04ceed1",
   "metadata": {},
   "outputs": [],
   "source": [
    "Ans5: Levels of measurement, also called scales of measurement, tell you how precisely variables are recorded. \n",
    "\n",
    "There are 4 levels of measurement:\n",
    "\n",
    "1. Nominal Scale Data : the data can only be categorized\n",
    " Example:color liked by students : red -  50%\n",
    "                           blue- 30%\n",
    "                           yellow: 20%\n",
    "\n",
    "2.Ordinal Scale Data: the data can be categorized and ranked\n",
    "  Example: Educational Classification\n",
    "            P.hd. 1st\n",
    "            BE    2ND\n",
    "            Masters 3rd\n",
    "            BSC     4th\n",
    "3.Interval Scale Data: the data can be categorized, ranked, and evenly spaced\n",
    "  Example:Tempreature of B place - 30F,20F,60F,80F,70F,90F\n",
    "4.Ratio Scale Data: the data can be categorized, ranked, evenly spaced, and has a natural zero.\n",
    "  Example:  \n",
    "\n",
    "Depending on the level of measurement of the variable, what you can do to analyze your data may be limited. \n",
    "There is a hierarchy in the complexity and precision of the level of measurement, from low (nominal) to high (ratio).\n",
    "\n"
   ]
  },
  {
   "cell_type": "markdown",
   "id": "6ef5824b-fd19-4666-9f12-7fe82707321b",
   "metadata": {},
   "source": [
    "Q6. Why is it important to understand the level of measurement when analyzing data? Provide an\n",
    "example to illustrate your answer.\n"
   ]
  },
  {
   "cell_type": "markdown",
   "id": "e3b6f71e-c842-4b02-bb6b-7955fed82b3b",
   "metadata": {},
   "source": [
    "Ans6: Levels of measurement, or scales of measurement, are descriptors that indicate the precision with which you can record variables. \n",
    "The most basic level of measurement indicates one can exclusively categorize a variable, while more complex levels of measurement \n",
    "indicate that the variable is compatible with descriptors like ranking, the inference of equal intervals and the presence of true zero points.\n",
    "Levels of measurement are important because they indicate the extent to which statisticians, marketing analysts and financial analysts can use\n",
    "existing data. For instance, if you classify your data at the ordinal level of measurement, you know that you can evaluate how items compare to \n",
    "each other based on a specific hierarchy. If you wanted to analyze the exact distance between items rather than understand only how they compare \n",
    "to one another, you might want to rely on data at the interval level of measurement.\n",
    "\n",
    "For Example :\n",
    "To analyse the tempreature we need to understand the nature of data and the level of measuerment that will be useful for that particular data.\n",
    "                                                                                                                    "
   ]
  },
  {
   "cell_type": "markdown",
   "id": "aa94b670-44fb-43da-b5c4-92cd9d367a21",
   "metadata": {},
   "source": [
    "Q7. How nominal data type is different from ordinal data type."
   ]
  },
  {
   "cell_type": "markdown",
   "id": "6f090ae8-4cda-499e-b5d8-49cdcb762161",
   "metadata": {},
   "source": [
    "Ans 7: Nominal and bordinal data are both parts of qualitative data type.In Nominal Data type there is no ranking and have specific categories.\n",
    "     Where as in ordinal data type there is ranking and have comparative nature .\n",
    "    "
   ]
  },
  {
   "cell_type": "markdown",
   "id": "682a278e-f2e9-41fa-a52f-7878c6857387",
   "metadata": {},
   "source": [
    "Q8. Which type of plot can be used to display data in terms of range?"
   ]
  },
  {
   "cell_type": "markdown",
   "id": "6a100505-c9d2-44d6-ac8b-56b51700b078",
   "metadata": {},
   "source": [
    "Boxplots can be used to plot the data in terms of range."
   ]
  },
  {
   "cell_type": "markdown",
   "id": "8cd1cfea-789f-47b1-8b0e-745de89482d5",
   "metadata": {},
   "source": [
    "Q9. Describe the difference between descriptive and inferential statistics. Give an example of each\n",
    "type of statistics and explain how they are used."
   ]
  },
  {
   "cell_type": "markdown",
   "id": "fedb53be-10c7-4b95-a93f-b1405e7ae75c",
   "metadata": {},
   "source": [
    "Ans9: The difference between the descriptive an dinferential are as follows:\n",
    "    a. Descriptive Statistics : In this type of statistics different statistical measures use to describe organize and summarize the data.\n",
    "\n",
    "    b. Inferential Statistics : In this type of statistcs sample data will collect from the population data to make inferences about the population. \n",
    "    "
   ]
  },
  {
   "cell_type": "markdown",
   "id": "182eea0e-1017-41bc-9f6a-0ca797d82d4c",
   "metadata": {},
   "source": [
    "Q10. What are some common measures of central tendency and variability used in statistics? Explain\n",
    "how each measure can be used to describe a dataset."
   ]
  },
  {
   "cell_type": "markdown",
   "id": "7090bd4b-4c84-4dd1-9900-ef7d23e9d769",
   "metadata": {},
   "source": [
    "Ans10: Measures of central tendency help you find the middle, or the average, of a dataset. The 3 most common measures of central tendency are the mode, median, and mean.\r\n",
    "\r\n",
    "Mode: the most frequent value.\r\n",
    "Median: the middle number in an ordered dataset.\r\n",
    "Mean: the sum of all values divided by the total number of values.\r\n",
    "In addition to central tendency, the variability and distribution of your dataset is important to understand when performing descriptive statistiontents"
   ]
  }
 ],
 "metadata": {
  "kernelspec": {
   "display_name": "Python 3 (ipykernel)",
   "language": "python",
   "name": "python3"
  },
  "language_info": {
   "codemirror_mode": {
    "name": "ipython",
    "version": 3
   },
   "file_extension": ".py",
   "mimetype": "text/x-python",
   "name": "python",
   "nbconvert_exporter": "python",
   "pygments_lexer": "ipython3",
   "version": "3.12.1"
  }
 },
 "nbformat": 4,
 "nbformat_minor": 5
}
